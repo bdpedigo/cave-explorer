{
 "cells": [
  {
   "cell_type": "code",
   "execution_count": 1,
   "source": [
    "from datetime import datetime, timedelta\n",
    "\n",
    "import caveclient as cc\n",
    "import numpy as np\n",
    "import pandas as pd"
   ],
   "outputs": [],
   "metadata": {}
  },
  {
   "cell_type": "code",
   "execution_count": 2,
   "source": [
    "client = cc.CAVEclient(\"minnie65_phase3_v1\")\n",
    "\n",
    "cg = client.chunkedgraph\n",
    "cv = client.info.segmentation_cloudvolume()"
   ],
   "outputs": [],
   "metadata": {}
  },
  {
   "cell_type": "code",
   "execution_count": 3,
   "source": [
    "meta = client.materialize.query_table(\"allen_v1_column_types_slanted_ref\")\n",
    "meta = meta.sort_values(\"target_id\")\n",
    "nuc = client.materialize.query_table(\"nucleus_detection_v0\").set_index(\"id\")"
   ],
   "outputs": [],
   "metadata": {}
  },
  {
   "cell_type": "code",
   "execution_count": 4,
   "source": [
    "i = 1\n",
    "target_id = meta.iloc[i][\"target_id\"]\n",
    "root_id = nuc.loc[target_id][\"pt_root_id\"]\n",
    "root_id = client.chunkedgraph.get_latest_roots(root_id)[0]\n",
    "\n",
    "print(\"Root ID:\", root_id)"
   ],
   "outputs": [
    {
     "output_type": "stream",
     "name": "stdout",
     "text": [
      "Root ID: 864691135938349828\n"
     ]
    }
   ],
   "metadata": {}
  },
  {
   "cell_type": "code",
   "execution_count": 5,
   "source": [
    "change_log = cg.get_tabular_change_log(root_id)[root_id]\n",
    "change_log.set_index(\"operation_id\", inplace=True)\n",
    "change_log.sort_values(\"timestamp\", inplace=True)\n",
    "change_log.drop(columns=[\"timestamp\"], inplace=True)\n",
    "\n",
    "merges = change_log.query(\"is_merge\")\n",
    "splits = change_log.query(\"~is_merge\")\n",
    "\n",
    "details = cg.get_operation_details(merges.index.to_list())\n",
    "details = pd.DataFrame(details).T\n",
    "details.index.name = \"operation_id\"\n",
    "details.index = details.index.astype(int)\n",
    "details = details.explode(\"roots\")\n",
    "\n",
    "merges = merges.join(details)"
   ],
   "outputs": [],
   "metadata": {}
  },
  {
   "cell_type": "code",
   "execution_count": 6,
   "source": [
    "def get_pre_post_l2_ids(node_id, timestamp):\n",
    "    if isinstance(timestamp, str):\n",
    "        timestamp = datetime.fromisoformat(timestamp)\n",
    "\n",
    "    # 1 microsecond is the finest resolution allowed by timedelta\n",
    "    delta = timedelta(microseconds=1)\n",
    "    pre_operation_time = timestamp - delta\n",
    "    post_operation_time = timestamp + delta\n",
    "\n",
    "    pre_parent_id = cg.get_roots(node_id, timestamp=pre_operation_time, stop_layer=2)[0]\n",
    "    post_parent_id = cg.get_roots(node_id, timestamp=post_operation_time, stop_layer=2)[\n",
    "        0\n",
    "    ]\n",
    "\n",
    "    return pre_parent_id, post_parent_id\n",
    "\n",
    "\n",
    "def get_changed_ancestor(node_id, timestamp):\n",
    "    if isinstance(timestamp, str):\n",
    "        timestamp = datetime.fromisoformat(timestamp)\n",
    "\n",
    "    # 1 microsecond is the finest resolution allowed by timedelta\n",
    "    delta = timedelta(microseconds=1)\n",
    "    pre_operation_time = timestamp - delta\n",
    "    post_operation_time = timestamp + delta\n",
    "\n",
    "    current_layer = cv.get_chunk_layer(node_id)\n",
    "    parent_layer = current_layer + 1\n",
    "\n",
    "    pre_parent_id = cg.get_roots(\n",
    "        node_id, timestamp=pre_operation_time, stop_layer=parent_layer\n",
    "    )[0]\n",
    "    post_parent_id = cg.get_roots(\n",
    "        node_id, timestamp=post_operation_time, stop_layer=parent_layer\n",
    "    )[0]\n",
    "\n",
    "    if pre_parent_id == post_parent_id:\n",
    "        return get_changed_ancestor(pre_parent_id, timestamp)\n",
    "    else:\n",
    "        return pre_parent_id, post_parent_id, parent_layer"
   ],
   "outputs": [],
   "metadata": {}
  },
  {
   "cell_type": "code",
   "execution_count": 7,
   "source": [
    "operation_id = 339158\n",
    "row = merges.loc[operation_id]\n",
    "\n",
    "source_supervoxel_id = row[\"added_edges\"][0][0]\n",
    "target_supervoxel_id = row[\"added_edges\"][0][1]\n",
    "timestamp = row[\"timestamp\"]\n",
    "\n",
    "source_pre_l2_id, source_post_l2_id = get_pre_post_l2_ids(\n",
    "    source_supervoxel_id, timestamp\n",
    ")\n",
    "target_pre_l2_id, target_post_l2_id = get_pre_post_l2_ids(\n",
    "    target_supervoxel_id, timestamp\n",
    ")\n",
    "\n",
    "print(f\"Operation ID: {operation_id}\")\n",
    "print(f\"Source: {source_pre_l2_id} -> {source_post_l2_id} (Level 2)\")\n",
    "print(f\"Target: {target_pre_l2_id} -> {target_post_l2_id} (Level 2)\")"
   ],
   "outputs": [
    {
     "output_type": "stream",
     "name": "stdout",
     "text": [
      "Operation ID: 339158\n",
      "Source: 160737193353020068 -> 160737193353020068 (Level 2)\n",
      "Target: 160807630816674605 -> 160807630816674605 (Level 2)\n"
     ]
    }
   ],
   "metadata": {}
  },
  {
   "cell_type": "code",
   "execution_count": 8,
   "source": [
    "source_pre_l2_id, source_post_l2_id, source_layer = get_changed_ancestor(\n",
    "    source_supervoxel_id, timestamp\n",
    ")\n",
    "target_pre_l2_id, target_post_l2_id, target_layer = get_changed_ancestor(\n",
    "    target_supervoxel_id, timestamp\n",
    ")\n",
    "\n",
    "print(f\"Operation ID: {operation_id}\")\n",
    "print(f\"Source: {source_pre_l2_id} -> {source_post_l2_id} (Level {source_layer})\")\n",
    "print(f\"Target: {target_pre_l2_id} -> {target_post_l2_id} (Level {target_layer})\")"
   ],
   "outputs": [
    {
     "output_type": "stream",
     "name": "stdout",
     "text": [
      "Operation ID: 339158\n",
      "Source: 232809770652797545 -> 232809770652798902 (Level 3)\n",
      "Target: 232809770652798080 -> 232809770652798902 (Level 3)\n"
     ]
    }
   ],
   "metadata": {}
  },
  {
   "cell_type": "code",
   "execution_count": 9,
   "source": [
    "before1_root_id, before2_root_id = row[\"before_root_ids\"]\n",
    "after_root_id = row[\"after_root_ids\"][0]\n",
    "\n",
    "before1_nodes = cg.get_leaves(before1_root_id, stop_layer=2)\n",
    "before2_nodes = cg.get_leaves(before2_root_id, stop_layer=2)\n",
    "after_nodes = cg.get_leaves(after_root_id, stop_layer=2)\n",
    "\n",
    "before_union = np.union1d(before1_nodes, before2_nodes)\n",
    "\n",
    "np.setdiff1d(after_nodes, before_union)"
   ],
   "outputs": [
    {
     "output_type": "execute_result",
     "data": {
      "text/plain": [
       "array([160807562097198220])"
      ]
     },
     "metadata": {},
     "execution_count": 9
    }
   ],
   "metadata": {}
  }
 ],
 "nbformat": 4,
 "nbformat_minor": 2,
 "metadata": {
  "language_info": {
   "codemirror_mode": {
    "name": "ipython",
    "version": 3
   },
   "file_extension": ".py",
   "mimetype": "text/x-python",
   "name": "python",
   "nbconvert_exporter": "python",
   "pygments_lexer": "ipython3",
   "version": 3
  }
 }
}